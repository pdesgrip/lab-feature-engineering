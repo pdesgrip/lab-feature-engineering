{
 "cells": [
  {
   "cell_type": "code",
   "execution_count": 1,
   "id": "edcc9032",
   "metadata": {
    "ExecuteTime": {
     "end_time": "2023-10-16T19:48:47.386127Z",
     "start_time": "2023-10-16T19:48:43.261744Z"
    }
   },
   "outputs": [],
   "source": [
    "import pandas as pd \n",
    "import matplotlib.pyplot as plt"
   ]
  },
  {
   "cell_type": "code",
   "execution_count": 3,
   "id": "9b284709",
   "metadata": {
    "ExecuteTime": {
     "end_time": "2023-10-16T19:49:29.184812Z",
     "start_time": "2023-10-16T19:49:22.663395Z"
    }
   },
   "outputs": [],
   "source": [
    "# load the dataset\n",
    "\n",
    "data = pd.read_csv('learningSet.csv', low_memory=False) "
   ]
  },
  {
   "cell_type": "code",
   "execution_count": 4,
   "id": "d2308614",
   "metadata": {
    "ExecuteTime": {
     "end_time": "2023-10-16T19:49:32.086755Z",
     "start_time": "2023-10-16T19:49:31.937171Z"
    }
   },
   "outputs": [],
   "source": [
    "# ceck for null values in the numerical columns\n",
    "\n",
    "numerical_nulls = data.select_dtypes(include=['float64', 'int64']).isnull().sum()"
   ]
  },
  {
   "cell_type": "code",
   "execution_count": 5,
   "id": "faa27af3",
   "metadata": {
    "ExecuteTime": {
     "end_time": "2023-10-16T19:49:34.332442Z",
     "start_time": "2023-10-16T19:49:34.321420Z"
    }
   },
   "outputs": [],
   "source": [
    "# cleaning the GEOCODE2 column\n",
    "\n",
    "data['GEOCODE2'].fillna('A', inplace=True)\n",
    "data['GEOCODE2'].replace(' ', 'A', inplace=True)"
   ]
  },
  {
   "cell_type": "code",
   "execution_count": 6,
   "id": "b2864682",
   "metadata": {
    "ExecuteTime": {
     "end_time": "2023-10-16T19:49:36.493288Z",
     "start_time": "2023-10-16T19:49:36.486952Z"
    }
   },
   "outputs": [],
   "source": [
    "# cleaning the WEALTH1 column\n",
    "\n",
    "wealth1_median = data['WEALTH1'].median()\n",
    "data['WEALTH1'].fillna(wealth1_median, inplace=True)"
   ]
  },
  {
   "cell_type": "code",
   "execution_count": 7,
   "id": "1817cc93",
   "metadata": {
    "ExecuteTime": {
     "end_time": "2023-10-16T19:49:39.675457Z",
     "start_time": "2023-10-16T19:49:39.667061Z"
    }
   },
   "outputs": [],
   "source": [
    "# cleaning the ADI column\n",
    "\n",
    "adi_median = data['ADI'].median()\n",
    "data['ADI'].fillna(adi_median, inplace=True)"
   ]
  },
  {
   "cell_type": "code",
   "execution_count": 8,
   "id": "f7ff8376",
   "metadata": {
    "ExecuteTime": {
     "end_time": "2023-10-16T19:49:41.925801Z",
     "start_time": "2023-10-16T19:49:41.919106Z"
    }
   },
   "outputs": [],
   "source": [
    "# cleaning the DMA column\n",
    "\n",
    "dma_mode = data['DMA'].mode()[0]\n",
    "data['DMA'].fillna(dma_mode, inplace=True)"
   ]
  },
  {
   "cell_type": "code",
   "execution_count": 9,
   "id": "9b1f1b30",
   "metadata": {
    "ExecuteTime": {
     "end_time": "2023-10-16T19:49:44.195600Z",
     "start_time": "2023-10-16T19:49:44.189060Z"
    }
   },
   "outputs": [],
   "source": [
    "# cleaning the MSA column\n",
    "\n",
    "msa_mode = data['MSA'].mode()[0]\n",
    "data['MSA'].fillna(msa_mode, inplace=True)"
   ]
  },
  {
   "cell_type": "code",
   "execution_count": 10,
   "id": "d9684a00",
   "metadata": {
    "ExecuteTime": {
     "end_time": "2023-10-16T19:50:06.978934Z",
     "start_time": "2023-10-16T19:50:06.956989Z"
    }
   },
   "outputs": [
    {
     "name": "stdout",
     "output_type": "stream",
     "text": [
      "GEOCODE2    0\n",
      "WEALTH1     0\n",
      "ADI         0\n",
      "DMA         0\n",
      "MSA         0\n",
      "dtype: int64\n"
     ]
    }
   ],
   "source": [
    "# verify the cleaning\n",
    "cleaned_columns_check = data[['GEOCODE2', 'WEALTH1', 'ADI', 'DMA', 'MSA']].isnull().sum()\n",
    "\n",
    "print(cleaned_columns_check)\n",
    "\n",
    " "
   ]
  },
  {
   "cell_type": "code",
   "execution_count": null,
   "id": "60773ae6",
   "metadata": {},
   "outputs": [],
   "source": []
  },
  {
   "cell_type": "code",
   "execution_count": null,
   "id": "c80772b7",
   "metadata": {},
   "outputs": [],
   "source": []
  }
 ],
 "metadata": {
  "kernelspec": {
   "display_name": "Python 3 (ipykernel)",
   "language": "python",
   "name": "python3"
  },
  "language_info": {
   "codemirror_mode": {
    "name": "ipython",
    "version": 3
   },
   "file_extension": ".py",
   "mimetype": "text/x-python",
   "name": "python",
   "nbconvert_exporter": "python",
   "pygments_lexer": "ipython3",
   "version": "3.11.4"
  }
 },
 "nbformat": 4,
 "nbformat_minor": 5
}
